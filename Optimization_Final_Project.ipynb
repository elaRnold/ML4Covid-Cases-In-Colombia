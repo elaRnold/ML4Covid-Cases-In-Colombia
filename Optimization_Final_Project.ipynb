{
  "nbformat": 4,
  "nbformat_minor": 0,
  "metadata": {
    "colab": {
      "name": "Optimization - Final Project.ipynb",
      "provenance": [],
      "collapsed_sections": [
        "qGEJ2qpetY7T",
        "PcGlLA9ktY7V",
        "GeQKqxJGtY7g",
        "eSmGjC7htY6_"
      ]
    },
    "kernelspec": {
      "name": "python3",
      "display_name": "Python 3"
    },
    "language_info": {
      "name": "python"
    }
  },
  "cells": [
    {
      "cell_type": "markdown",
      "metadata": {
        "id": "HcFN_8lXUUbN"
      },
      "source": [
        "![UN_Logo.png](data:image/png;base64,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)"
      ]
    },
    {
      "cell_type": "markdown",
      "metadata": {
        "id": "kIYAL2D9UY2v"
      },
      "source": [
        "# **Final Project**\n",
        "\n",
        "## Team #2\n",
        "\n",
        "\n",
        "1.   Arnaldo Benavides\n",
        "2.   Santiago Poveda\n",
        "3.   Nicolás Poveda\n",
        "4.   Michael Valero\n",
        "5.   Donny Escolar"
      ]
    },
    {
      "cell_type": "code",
      "metadata": {
        "id": "woaAqMBQ1VRd"
      },
      "source": [
        "import pandas as pd\n",
        "from urllib.request import urlopen\n",
        "import seaborn as sns\n",
        "import numpy as np\n",
        "import matplotlib.pyplot as plt\n",
        "import json\n",
        "from sklearn.model_selection import train_test_split\n",
        "from sklearn.linear_model import LinearRegression\n",
        "from sklearn.metrics import confusion_matrix,accuracy_score"
      ],
      "execution_count": null,
      "outputs": []
    },
    {
      "cell_type": "markdown",
      "metadata": {
        "id": "f-9_6kjeU2Te"
      },
      "source": [
        "We load the dataset from Datos Abiertos rep:\\\n",
        "https://www.datos.gov.co/Salud-y-Protecci-n-Social/Casos-positivos-de-COVID-19-en-Colombia/gt2j-8ykr/data"
      ]
    },
    {
      "cell_type": "code",
      "metadata": {
        "id": "xYlxW_5M1Ypi",
        "colab": {
          "base_uri": "https://localhost:8080/",
          "height": 226
        },
        "outputId": "346d7e14-aaf8-4060-b0be-d419f2d7ecf2"
      },
      "source": [
        "url = \"https://www.datos.gov.co/resource/gt2j-8ykr.json\"\n",
        "response = urlopen(url)\n",
        "data_json = json.loads(response.read())\n",
        "df_covid = pd.json_normalize(data_json)\n",
        "\n",
        "df_covid.head(5)"
      ],
      "execution_count": null,
      "outputs": [
        {
          "output_type": "execute_result",
          "data": {
            "text/html": [
              "<div>\n",
              "<style scoped>\n",
              "    .dataframe tbody tr th:only-of-type {\n",
              "        vertical-align: middle;\n",
              "    }\n",
              "\n",
              "    .dataframe tbody tr th {\n",
              "        vertical-align: top;\n",
              "    }\n",
              "\n",
              "    .dataframe thead th {\n",
              "        text-align: right;\n",
              "    }\n",
              "</style>\n",
              "<table border=\"1\" class=\"dataframe\">\n",
              "  <thead>\n",
              "    <tr style=\"text-align: right;\">\n",
              "      <th></th>\n",
              "      <th>fecha_reporte_web</th>\n",
              "      <th>id_de_caso</th>\n",
              "      <th>fecha_de_notificaci_n</th>\n",
              "      <th>departamento</th>\n",
              "      <th>departamento_nom</th>\n",
              "      <th>ciudad_municipio</th>\n",
              "      <th>ciudad_municipio_nom</th>\n",
              "      <th>edad</th>\n",
              "      <th>unidad_medida</th>\n",
              "      <th>sexo</th>\n",
              "      <th>fuente_tipo_contagio</th>\n",
              "      <th>ubicacion</th>\n",
              "      <th>estado</th>\n",
              "      <th>pais_viajo_1_cod</th>\n",
              "      <th>pais_viajo_1_nom</th>\n",
              "      <th>recuperado</th>\n",
              "      <th>fecha_inicio_sintomas</th>\n",
              "      <th>fecha_diagnostico</th>\n",
              "      <th>fecha_recuperado</th>\n",
              "      <th>tipo_recuperacion</th>\n",
              "      <th>per_etn_</th>\n",
              "      <th>nom_grupo_</th>\n",
              "      <th>fecha_muerte</th>\n",
              "    </tr>\n",
              "  </thead>\n",
              "  <tbody>\n",
              "    <tr>\n",
              "      <th>0</th>\n",
              "      <td>6/3/2020 0:00:00</td>\n",
              "      <td>1</td>\n",
              "      <td>2/3/2020 0:00:00</td>\n",
              "      <td>11</td>\n",
              "      <td>BOGOTA</td>\n",
              "      <td>11001</td>\n",
              "      <td>BOGOTA</td>\n",
              "      <td>19</td>\n",
              "      <td>1</td>\n",
              "      <td>F</td>\n",
              "      <td>Importado</td>\n",
              "      <td>Casa</td>\n",
              "      <td>Leve</td>\n",
              "      <td>380</td>\n",
              "      <td>ITALIA</td>\n",
              "      <td>Recuperado</td>\n",
              "      <td>27/2/2020 0:00:00</td>\n",
              "      <td>6/3/2020 0:00:00</td>\n",
              "      <td>13/3/2020 0:00:00</td>\n",
              "      <td>PCR</td>\n",
              "      <td>6</td>\n",
              "      <td>NaN</td>\n",
              "      <td>NaN</td>\n",
              "    </tr>\n",
              "    <tr>\n",
              "      <th>1</th>\n",
              "      <td>9/3/2020 0:00:00</td>\n",
              "      <td>2</td>\n",
              "      <td>6/3/2020 0:00:00</td>\n",
              "      <td>76</td>\n",
              "      <td>VALLE</td>\n",
              "      <td>76111</td>\n",
              "      <td>BUGA</td>\n",
              "      <td>34</td>\n",
              "      <td>1</td>\n",
              "      <td>M</td>\n",
              "      <td>Importado</td>\n",
              "      <td>Casa</td>\n",
              "      <td>Leve</td>\n",
              "      <td>724</td>\n",
              "      <td>ESPAÑA</td>\n",
              "      <td>Recuperado</td>\n",
              "      <td>4/3/2020 0:00:00</td>\n",
              "      <td>9/3/2020 0:00:00</td>\n",
              "      <td>19/3/2020 0:00:00</td>\n",
              "      <td>PCR</td>\n",
              "      <td>5</td>\n",
              "      <td>NaN</td>\n",
              "      <td>NaN</td>\n",
              "    </tr>\n",
              "    <tr>\n",
              "      <th>2</th>\n",
              "      <td>9/3/2020 0:00:00</td>\n",
              "      <td>3</td>\n",
              "      <td>7/3/2020 0:00:00</td>\n",
              "      <td>5</td>\n",
              "      <td>ANTIOQUIA</td>\n",
              "      <td>5001</td>\n",
              "      <td>MEDELLIN</td>\n",
              "      <td>50</td>\n",
              "      <td>1</td>\n",
              "      <td>F</td>\n",
              "      <td>Importado</td>\n",
              "      <td>Casa</td>\n",
              "      <td>Leve</td>\n",
              "      <td>724</td>\n",
              "      <td>ESPAÑA</td>\n",
              "      <td>Recuperado</td>\n",
              "      <td>29/2/2020 0:00:00</td>\n",
              "      <td>9/3/2020 0:00:00</td>\n",
              "      <td>15/3/2020 0:00:00</td>\n",
              "      <td>PCR</td>\n",
              "      <td>6</td>\n",
              "      <td>NaN</td>\n",
              "      <td>NaN</td>\n",
              "    </tr>\n",
              "    <tr>\n",
              "      <th>3</th>\n",
              "      <td>11/3/2020 0:00:00</td>\n",
              "      <td>4</td>\n",
              "      <td>9/3/2020 0:00:00</td>\n",
              "      <td>5</td>\n",
              "      <td>ANTIOQUIA</td>\n",
              "      <td>5001</td>\n",
              "      <td>MEDELLIN</td>\n",
              "      <td>55</td>\n",
              "      <td>1</td>\n",
              "      <td>M</td>\n",
              "      <td>Relacionado</td>\n",
              "      <td>Casa</td>\n",
              "      <td>Leve</td>\n",
              "      <td>NaN</td>\n",
              "      <td>NaN</td>\n",
              "      <td>Recuperado</td>\n",
              "      <td>6/3/2020 0:00:00</td>\n",
              "      <td>11/3/2020 0:00:00</td>\n",
              "      <td>26/3/2020 0:00:00</td>\n",
              "      <td>PCR</td>\n",
              "      <td>6</td>\n",
              "      <td>NaN</td>\n",
              "      <td>NaN</td>\n",
              "    </tr>\n",
              "    <tr>\n",
              "      <th>4</th>\n",
              "      <td>11/3/2020 0:00:00</td>\n",
              "      <td>5</td>\n",
              "      <td>9/3/2020 0:00:00</td>\n",
              "      <td>5</td>\n",
              "      <td>ANTIOQUIA</td>\n",
              "      <td>5001</td>\n",
              "      <td>MEDELLIN</td>\n",
              "      <td>25</td>\n",
              "      <td>1</td>\n",
              "      <td>M</td>\n",
              "      <td>Relacionado</td>\n",
              "      <td>Casa</td>\n",
              "      <td>Leve</td>\n",
              "      <td>NaN</td>\n",
              "      <td>NaN</td>\n",
              "      <td>Recuperado</td>\n",
              "      <td>8/3/2020 0:00:00</td>\n",
              "      <td>11/3/2020 0:00:00</td>\n",
              "      <td>23/3/2020 0:00:00</td>\n",
              "      <td>PCR</td>\n",
              "      <td>6</td>\n",
              "      <td>NaN</td>\n",
              "      <td>NaN</td>\n",
              "    </tr>\n",
              "  </tbody>\n",
              "</table>\n",
              "</div>"
            ],
            "text/plain": [
              "   fecha_reporte_web id_de_caso  ... nom_grupo_ fecha_muerte\n",
              "0   6/3/2020 0:00:00          1  ...        NaN          NaN\n",
              "1   9/3/2020 0:00:00          2  ...        NaN          NaN\n",
              "2   9/3/2020 0:00:00          3  ...        NaN          NaN\n",
              "3  11/3/2020 0:00:00          4  ...        NaN          NaN\n",
              "4  11/3/2020 0:00:00          5  ...        NaN          NaN\n",
              "\n",
              "[5 rows x 23 columns]"
            ]
          },
          "metadata": {},
          "execution_count": 2
        }
      ]
    },
    {
      "cell_type": "code",
      "metadata": {
        "id": "NmKnAZkmpwea"
      },
      "source": [
        ""
      ],
      "execution_count": null,
      "outputs": []
    },
    {
      "cell_type": "code",
      "metadata": {
        "colab": {
          "base_uri": "https://localhost:8080/"
        },
        "id": "uK3sNRJJpFkG",
        "outputId": "0b7efc89-2511-42d8-f319-54c4a103eefd"
      },
      "source": [
        "df_covid.info()"
      ],
      "execution_count": null,
      "outputs": [
        {
          "output_type": "stream",
          "name": "stdout",
          "text": [
            "<class 'pandas.core.frame.DataFrame'>\n",
            "RangeIndex: 1000 entries, 0 to 999\n",
            "Data columns (total 23 columns):\n",
            " #   Column                 Non-Null Count  Dtype \n",
            "---  ------                 --------------  ----- \n",
            " 0   fecha_reporte_web      1000 non-null   object\n",
            " 1   id_de_caso             1000 non-null   object\n",
            " 2   fecha_de_notificaci_n  1000 non-null   object\n",
            " 3   departamento           1000 non-null   object\n",
            " 4   departamento_nom       1000 non-null   object\n",
            " 5   ciudad_municipio       1000 non-null   object\n",
            " 6   ciudad_municipio_nom   1000 non-null   object\n",
            " 7   edad                   1000 non-null   object\n",
            " 8   unidad_medida          1000 non-null   object\n",
            " 9   sexo                   1000 non-null   object\n",
            " 10  fuente_tipo_contagio   1000 non-null   object\n",
            " 11  ubicacion              1000 non-null   object\n",
            " 12  estado                 1000 non-null   object\n",
            " 13  pais_viajo_1_cod       477 non-null    object\n",
            " 14  pais_viajo_1_nom       477 non-null    object\n",
            " 15  recuperado             1000 non-null   object\n",
            " 16  fecha_inicio_sintomas  956 non-null    object\n",
            " 17  fecha_diagnostico      1000 non-null   object\n",
            " 18  fecha_recuperado       950 non-null    object\n",
            " 19  tipo_recuperacion      950 non-null    object\n",
            " 20  per_etn_               1000 non-null   object\n",
            " 21  nom_grupo_             14 non-null     object\n",
            " 22  fecha_muerte           52 non-null     object\n",
            "dtypes: object(23)\n",
            "memory usage: 179.8+ KB\n"
          ]
        }
      ]
    },
    {
      "cell_type": "markdown",
      "metadata": {
        "id": "-906XDud3-CP"
      },
      "source": [
        "#Visualization "
      ]
    },
    {
      "cell_type": "markdown",
      "metadata": {
        "id": "bVBG-D_iGK7H"
      },
      "source": [
        "conteo de casos positivos hombres vs mujeres"
      ]
    },
    {
      "cell_type": "code",
      "metadata": {
        "id": "iOKkp3zAWJ1u",
        "colab": {
          "base_uri": "https://localhost:8080/",
          "height": 278
        },
        "outputId": "728f5aea-506b-4a71-a6db-89e2937c45c1"
      },
      "source": [
        "df_covid.assign(dummy = 1).groupby(\n",
        "  ['dummy','sexo']\n",
        ").size().to_frame().unstack().plot(kind='bar',stacked=True,legend=False)\n",
        "\n",
        "plt.title('Number of records by gender')\n",
        "\n",
        "# other it'll show up as 'dummy' \n",
        "plt.xlabel('Gender')\n",
        "\n",
        "# disable ticks in the x axis\n",
        "plt.xticks([])\n",
        "\n",
        "# fix the legend\n",
        "current_handles, _ = plt.gca().get_legend_handles_labels()\n",
        "reversed_handles = reversed(current_handles)\n",
        "\n",
        "labels = reversed(df_covid['sexo'].unique())\n",
        "\n",
        "plt.legend(reversed_handles,labels,loc='lower right')\n",
        "plt.grid()\n",
        "plt.show()"
      ],
      "execution_count": null,
      "outputs": [
        {
          "output_type": "display_data",
          "data": {
            "image/png": "[encoded data removed]",
            "text/plain": [
              "<Figure size 432x288 with 1 Axes>"
            ]
          },
          "metadata": {
            "needs_background": "light"
          }
        }
      ]
    },
    {
      "cell_type": "code",
      "metadata": {
        "colab": {
          "base_uri": "https://localhost:8080/",
          "height": 296
        },
        "id": "P4KLzaWGge8V",
        "outputId": "05faa1be-f8cb-4a92-a94f-90d9a18ef725"
      },
      "source": [
        "sns.scatterplot(data=df_covid, x='edad', y='id_de_caso', hue='sexo', palette='BuPu')"
      ],
      "execution_count": null,
      "outputs": [
        {
          "output_type": "execute_result",
          "data": {
            "text/plain": [
              "<matplotlib.axes._subplots.AxesSubplot at 0x7ff4ab031510>"
            ]
          },
          "metadata": {},
          "execution_count": 5
        },
        {
          "output_type": "display_data",
          "data": {
            "image/png": "[encoded data removed]",
            "text/plain": [
              "<Figure size 432x288 with 1 Axes>"
            ]
          },
          "metadata": {
            "needs_background": "light"
          }
        }
      ]
    },
    {
      "cell_type": "code",
      "metadata": {
        "id": "KTLzJbTCg5cQ",
        "colab": {
          "base_uri": "https://localhost:8080/",
          "height": 634
        },
        "outputId": "4ae0d6dc-3187-45c3-9159-d8f4a7dc4f4d"
      },
      "source": [
        "df_covid.groupby(['fuente_tipo_contagio','pais_viajo_1_nom']).size().plot(kind='bar',stacked=True)\n",
        "plt.title('Conteo por país de origen - casos de contagio importado')\n",
        "plt.grid()\n",
        "plt.show()"
      ],
      "execution_count": null,
      "outputs": [
        {
          "output_type": "display_data",
          "data": {
            "image/png": "[encoded data removed]",
            "text/plain": [
              "<Figure size 432x288 with 1 Axes>"
            ]
          },
          "metadata": {
            "needs_background": "light"
          }
        }
      ]
    },
    {
      "cell_type": "code",
      "metadata": {
        "id": "cE8FcwtQVoJ6",
        "colab": {
          "base_uri": "https://localhost:8080/",
          "height": 281
        },
        "outputId": "b27a407a-5b36-430d-ef3d-59d4258b15ad"
      },
      "source": [
        "df_covid.groupby(['departamento_nom']).size().plot(kind='barh',stacked=True)\n",
        "plt.title('Conteo casos positivos por departamento')\n",
        "plt.grid()\n",
        "plt.show()"
      ],
      "execution_count": null,
      "outputs": [
        {
          "output_type": "display_data",
          "data": {
            "image/png": "[encoded data removed]",
            "text/plain": [
              "<Figure size 432x288 with 1 Axes>"
            ]
          },
          "metadata": {
            "needs_background": "light"
          }
        }
      ]
    },
    {
      "cell_type": "code",
      "metadata": {
        "id": "B8nZp-mxOwo9",
        "colab": {
          "base_uri": "https://localhost:8080/",
          "height": 281
        },
        "outputId": "7f83d87c-2c3c-405c-d077-cfb77176dc4f"
      },
      "source": [
        "df_covid.groupby(['edad']).size().plot(kind='barh',stacked=True)\n",
        "plt.title('Conteo casos positivos por edad')\n",
        "plt.grid()\n",
        "plt.show()"
      ],
      "execution_count": null,
      "outputs": [
        {
          "output_type": "display_data",
          "data": {
            "image/png": "[encoded data removed]",
            "text/plain": [
              "<Figure size 432x288 with 1 Axes>"
            ]
          },
          "metadata": {
            "needs_background": "light"
          }
        }
      ]
    },
    {
      "cell_type": "code",
      "metadata": {
        "id": "dREcNDLdjw1f",
        "colab": {
          "base_uri": "https://localhost:8080/",
          "height": 281
        },
        "outputId": "b5e9b549-60e9-47e0-9917-89a01d82d6dc"
      },
      "source": [
        "df_covid[\"fecha_reporte_web\"]=pd.to_datetime(df_covid[\"fecha_reporte_web\"])\n",
        "df2 = df_covid.sort_values([\"fecha_reporte_web\"])\n",
        "df2 = df_covid.groupby('fecha_reporte_web').size().plot(kind='barh',stacked=True)\n",
        "plt.title('Conteo por fecha de diagnostico')\n",
        "plt.grid()\n",
        "plt.show()"
      ],
      "execution_count": null,
      "outputs": [
        {
          "output_type": "display_data",
          "data": {
            "image/png": "[encoded data removed]",
            "text/plain": [
              "<Figure size 432x288 with 1 Axes>"
            ]
          },
          "metadata": {
            "needs_background": "light"
          }
        }
      ]
    },
    {
      "cell_type": "code",
      "metadata": {
        "id": "sKFMOveFXYpo",
        "colab": {
          "base_uri": "https://localhost:8080/",
          "height": 281
        },
        "outputId": "fcebb67b-546e-4b8a-c8f2-b8da4e6a91bd"
      },
      "source": [
        "fig, ax = plt.subplots()\n",
        "ax.fill_between(df_covid.id_de_caso,df_covid.edad)\n",
        "plt.gca().axes.get_yaxis().set_visible(False)\n",
        "plt.title('Grafica dispersion de edades')\n",
        "plt.show()"
      ],
      "execution_count": null,
      "outputs": [
        {
          "output_type": "display_data",
          "data": {
            "image/png": "[encoded data removed]",
            "text/plain": [
              "<Figure size 432x288 with 1 Axes>"
            ]
          },
          "metadata": {
            "needs_background": "light"
          }
        }
      ]
    },
    {
      "cell_type": "markdown",
      "metadata": {
        "id": "TJHh2toaA-bA"
      },
      "source": [
        "#Machine learning Models\n"
      ]
    },
    {
      "cell_type": "markdown",
      "metadata": {
        "id": "SO-D9_NXFVVL"
      },
      "source": [
        "##Linear regression"
      ]
    },
    {
      "cell_type": "markdown",
      "metadata": {
        "id": "j5uyWipUDF70"
      },
      "source": [
        "### Cross Validation\n",
        "\n",
        "1.  Split your data in two sets (training set (70%) and validation set (30%)).\n",
        "\n",
        "2. Fit your model with your training data.\n",
        "\n",
        "3. Validate (test) your model with your validation test.\n",
        "\n",
        "4. **You can repeat this process to get stats of your model**"
      ]
    },
    {
      "cell_type": "markdown",
      "metadata": {
        "id": "qmlmBfaWMwvT"
      },
      "source": [
        "Aquí se divide el set y se toma como si la ciudad_municipio de los casos positivos dependiera del departamento y de la edad, para ver si existe relación y el score del modelo lineal"
      ]
    },
    {
      "cell_type": "code",
      "metadata": {
        "id": "ncvR-kvoB7zF",
        "colab": {
          "base_uri": "https://localhost:8080/"
        },
        "outputId": "caae35ed-8c88-4aa8-874e-4f0f598d5292"
      },
      "source": [
        "y = df_covid[['ciudad_municipio']].values.astype(np.float32)\n",
        "X = df_covid[['departamento','edad']].values.astype(np.float32);\n",
        "\n",
        "X_train, X_test, y_train, y_test = train_test_split(X, y, test_size=0.3, random_state=10)\n",
        "lr = LinearRegression(fit_intercept=False);\n",
        "\n",
        "#We train with _train\n",
        "lr_fit = lr.fit(X_train, y_train);\n",
        "\n",
        "#We validate with _test\n",
        "lr_score = lr_fit.score(X_test, y_test);\n",
        "\n",
        "print(f'* Score of linear model for covid data set {lr_score}');\n"
      ],
      "execution_count": null,
      "outputs": [
        {
          "output_type": "stream",
          "name": "stdout",
          "text": [
            "* Score of linear model for covid data set -0.15975735032645044\n"
          ]
        }
      ]
    },
    {
      "cell_type": "markdown",
      "metadata": {
        "id": "fqbOBdytFdK-"
      },
      "source": [
        "### Repeat the process"
      ]
    },
    {
      "cell_type": "code",
      "metadata": {
        "id": "hIM1xwNcFfVt"
      },
      "source": [
        "N = 5000;\n",
        "scores = [];\n",
        "alphas = [];\n",
        "for i in range(0, N):\n",
        "  X_train, X_test, y_train, y_test = train_test_split(X, y, \n",
        "                                                      test_size=0.3, \n",
        "                                                      random_state=i+4);\n",
        "  lr = LinearRegression(fit_intercept=False);\n",
        "  lr_fit = lr.fit(X_train, y_train);\n",
        "  lr_score = lr_fit.score(X_test, y_test);\n",
        "  scores.append(lr_score);\n",
        "  alphas.append(lr_fit.coef_[0]);\n",
        "scores = np.array(scores, dtype=np.float32);\n",
        "alphas = np.array(alphas, dtype=np.float32);"
      ],
      "execution_count": null,
      "outputs": []
    },
    {
      "cell_type": "code",
      "metadata": {
        "id": "CW-96YB5YSkd"
      },
      "source": [
        "sns.kdeplot(scores, shade=True)"
      ],
      "execution_count": null,
      "outputs": []
    },
    {
      "cell_type": "markdown",
      "metadata": {
        "id": "JCSJy4RNpCBX"
      },
      "source": [
        "## Logistic Model\n"
      ]
    },
    {
      "cell_type": "markdown",
      "metadata": {
        "id": "Ne7bVZTmWoo2"
      },
      "source": [
        "* To build a model of `sexo` as a function of `edad` and `departamento`.\n",
        "\n",
        "* Note that, `sexo` is a categorical variable - this is a problem of **classification**\n",
        "\n",
        "\\begin{eqnarray}\n",
        "\\text{Sexo} = \\frac{1}{1+ \\exp \\left ( -(a_1 \\cdot \\text{Departamento}+ a_2 \\cdot \\text{Edad} + a_0) ) \\right)} + \\epsilon\n",
        "\\end{eqnarray}"
      ]
    },
    {
      "cell_type": "code",
      "metadata": {
        "id": "l461XJE_YxiY"
      },
      "source": [
        "from sklearn.linear_model import LogisticRegression\n",
        "datos = df_covid.values\n",
        "y_logi = datos[:,-14];\n",
        "X_logi = df_covid[['departamento','edad']].values.astype(np.float32)\n",
        "X_tra, X_test, y_tra, y_test = train_test_split(X_logi, y_logi, test_size=0.3, random_state=10);\n"
      ],
      "execution_count": null,
      "outputs": []
    },
    {
      "cell_type": "code",
      "metadata": {
        "id": "QMFW0XUotY7R"
      },
      "source": [
        "U,S,V = np.linalg.svd(X_logi, full_matrices=False);"
      ],
      "execution_count": null,
      "outputs": []
    },
    {
      "cell_type": "markdown",
      "metadata": {
        "id": "qGEJ2qpetY7T"
      },
      "source": [
        "### Projection"
      ]
    },
    {
      "cell_type": "markdown",
      "metadata": {
        "id": "PcGlLA9ktY7V"
      },
      "source": [
        "#### One dimensional projection"
      ]
    },
    {
      "cell_type": "markdown",
      "metadata": {
        "id": "FOu8zo4qtY7X"
      },
      "source": [
        "Información explicada $\\frac{\\sigma_1}{\\sum_i \\sigma_i}$"
      ]
    },
    {
      "cell_type": "code",
      "metadata": {
        "id": "K9BvMnjrtY7a"
      },
      "source": [
        "sns.set_style('darkgrid')\n",
        "sns.kdeplot(U[:,0], shade=True, color='red')\n",
        "print(f'Información explicada = {round(S[0]/np.sum(S)*100)}%');"
      ],
      "execution_count": null,
      "outputs": []
    },
    {
      "cell_type": "markdown",
      "metadata": {
        "id": "GeQKqxJGtY7g"
      },
      "source": [
        "#### Two dimensional projection"
      ]
    },
    {
      "cell_type": "markdown",
      "metadata": {
        "id": "cEVBh0t4tY7i"
      },
      "source": [
        "Información explicada $\\frac{\\sigma_1 + \\sigma_2}{\\sum_i \\sigma_i}$"
      ]
    },
    {
      "cell_type": "code",
      "metadata": {
        "id": "dAkvFnoxtY7k"
      },
      "source": [
        "sns.kdeplot(x=U[:,0],y = U[:,1],shade=True,color='purple')\n",
        "print(f'Información explicada = {round((S[0]+S[1])/np.sum(S)*100)}%');"
      ],
      "execution_count": null,
      "outputs": []
    },
    {
      "cell_type": "code",
      "metadata": {
        "id": "wni7xAEctY7n"
      },
      "source": [
        "sns.scatterplot(x=U[:,0],y = U[:,1])\n",
        "print(f'Información explicada = {round((S[0]+S[1])/np.sum(S)*100)}%');"
      ],
      "execution_count": null,
      "outputs": []
    },
    {
      "cell_type": "markdown",
      "metadata": {
        "id": "yLXtB57PZgJz"
      },
      "source": [
        "###1. Train the model"
      ]
    },
    {
      "cell_type": "code",
      "metadata": {
        "id": "Ut2kvww8Zft7"
      },
      "source": [
        "lr = LogisticRegression(solver='liblinear');\n",
        "lr_fit = lr.fit(X_tra, y_tra);"
      ],
      "execution_count": null,
      "outputs": []
    },
    {
      "cell_type": "markdown",
      "metadata": {
        "id": "IvFjiIRvZphz"
      },
      "source": [
        "###2. Validation"
      ]
    },
    {
      "cell_type": "code",
      "metadata": {
        "id": "dPj4Hh4HaJgF",
        "colab": {
          "base_uri": "https://localhost:8080/"
        },
        "outputId": "b630d41d-3375-4ed9-ee20-94ca20f83733"
      },
      "source": [
        "lr_fit.score(X_test,y_test)"
      ],
      "execution_count": null,
      "outputs": [
        {
          "output_type": "execute_result",
          "data": {
            "text/plain": [
              "0.5"
            ]
          },
          "metadata": {},
          "execution_count": 17
        }
      ]
    },
    {
      "cell_type": "markdown",
      "metadata": {
        "id": "nhdsMbx0aNRV"
      },
      "source": [
        "###3. Further comments"
      ]
    },
    {
      "cell_type": "code",
      "metadata": {
        "id": "6gCce_gbaOvG",
        "colab": {
          "base_uri": "https://localhost:8080/"
        },
        "outputId": "d5ba98b9-f09e-49d0-c3ac-e43e23b11ddc"
      },
      "source": [
        "lr_fit.coef_"
      ],
      "execution_count": null,
      "outputs": [
        {
          "output_type": "execute_result",
          "data": {
            "text/plain": [
              "array([[-1.33981736e-05,  2.19126495e-03]])"
            ]
          },
          "metadata": {},
          "execution_count": 18
        }
      ]
    },
    {
      "cell_type": "code",
      "metadata": {
        "id": "hViU-tPgaZMM",
        "colab": {
          "base_uri": "https://localhost:8080/"
        },
        "outputId": "4be932a0-01d7-49b7-d13f-364a787e16de"
      },
      "source": [
        "lr_fit.intercept_"
      ],
      "execution_count": null,
      "outputs": [
        {
          "output_type": "execute_result",
          "data": {
            "text/plain": [
              "array([4.40332112e-05])"
            ]
          },
          "metadata": {},
          "execution_count": 19
        }
      ]
    },
    {
      "cell_type": "code",
      "metadata": {
        "id": "amytFuvyadKt",
        "colab": {
          "base_uri": "https://localhost:8080/"
        },
        "outputId": "78d62b1c-c5b0-4709-b6ae-ad5d830c5deb"
      },
      "source": [
        "ma_fe = lr_fit.predict(X_test)\n",
        "ma_fe"
      ],
      "execution_count": null,
      "outputs": [
        {
          "output_type": "execute_result",
          "data": {
            "text/plain": [
              "array(['M', 'M', 'M', 'M', 'M', 'M', 'M', 'M', 'M', 'M', 'M', 'F', 'M',\n",
              "       'M', 'M', 'M', 'M', 'M', 'M', 'M', 'M', 'M', 'M', 'M', 'M', 'M',\n",
              "       'M', 'M', 'M', 'M', 'M', 'M', 'F', 'M', 'M', 'M', 'M', 'M', 'M',\n",
              "       'M', 'M', 'M', 'M', 'M', 'M', 'M', 'M', 'M', 'M', 'M', 'M', 'M',\n",
              "       'M', 'M', 'M', 'M', 'M', 'M', 'F', 'M', 'M', 'M', 'M', 'M', 'F',\n",
              "       'M', 'M', 'M', 'M', 'M', 'M', 'M', 'M', 'M', 'M', 'M', 'M', 'M',\n",
              "       'M', 'M', 'M', 'M', 'M', 'M', 'M', 'M', 'M', 'M', 'M', 'M', 'M',\n",
              "       'M', 'M', 'M', 'M', 'M', 'M', 'M', 'M', 'M', 'M', 'M', 'M', 'M',\n",
              "       'M', 'M', 'F', 'M', 'M', 'M', 'M', 'F', 'M', 'M', 'M', 'M', 'M',\n",
              "       'M', 'F', 'M', 'M', 'M', 'M', 'F', 'M', 'M', 'M', 'M', 'M', 'M',\n",
              "       'M', 'M', 'M', 'M', 'M', 'F', 'F', 'M', 'F', 'M', 'M', 'F', 'M',\n",
              "       'F', 'M', 'M', 'M', 'M', 'M', 'M', 'M', 'F', 'M', 'M', 'M', 'M',\n",
              "       'M', 'M', 'M', 'M', 'M', 'M', 'M', 'M', 'M', 'M', 'M', 'M', 'M',\n",
              "       'M', 'M', 'M', 'M', 'M', 'F', 'M', 'M', 'F', 'M', 'M', 'M', 'M',\n",
              "       'M', 'M', 'M', 'M', 'M', 'M', 'F', 'M', 'M', 'M', 'M', 'M', 'M',\n",
              "       'M', 'M', 'M', 'M', 'M', 'M', 'M', 'M', 'M', 'M', 'M', 'M', 'M',\n",
              "       'M', 'M', 'M', 'M', 'M', 'M', 'M', 'M', 'M', 'M', 'M', 'M', 'M',\n",
              "       'M', 'M', 'M', 'M', 'M', 'M', 'M', 'M', 'M', 'M', 'M', 'M', 'M',\n",
              "       'M', 'M', 'F', 'M', 'M', 'M', 'M', 'M', 'M', 'M', 'F', 'M', 'M',\n",
              "       'M', 'M', 'M', 'M', 'M', 'M', 'M', 'M', 'M', 'M', 'M', 'M', 'F',\n",
              "       'M', 'M', 'M', 'M', 'M', 'M', 'M', 'M', 'M', 'M', 'M', 'M', 'F',\n",
              "       'M', 'M', 'M', 'M', 'M', 'M', 'M', 'M', 'M', 'M', 'M', 'M', 'M',\n",
              "       'M', 'M', 'M', 'M', 'M', 'M', 'M', 'M', 'M', 'M', 'M', 'M', 'M',\n",
              "       'M'], dtype=object)"
            ]
          },
          "metadata": {},
          "execution_count": 20
        }
      ]
    },
    {
      "cell_type": "markdown",
      "metadata": {
        "id": "9E41rgqEBiX-"
      },
      "source": [
        "Usamos la **matriz de confusión** y la **puntuación de precisión** comparando los valores de prueba predichos y reales"
      ]
    },
    {
      "cell_type": "code",
      "metadata": {
        "colab": {
          "base_uri": "https://localhost:8080/"
        },
        "id": "HjhTdCUABiYS",
        "outputId": "778e8ddd-fad9-4989-dfa6-3cb6818d4803"
      },
      "source": [
        "cm = confusion_matrix(y_test, ma_fe)\n",
        "ac = accuracy_score(y_test, ma_fe)\n",
        "cm"
      ],
      "execution_count": null,
      "outputs": [
        {
          "output_type": "execute_result",
          "data": {
            "text/plain": [
              "array([[  7, 136],\n",
              "       [ 14, 143]])"
            ]
          },
          "metadata": {},
          "execution_count": 23
        }
      ]
    },
    {
      "cell_type": "code",
      "metadata": {
        "colab": {
          "base_uri": "https://localhost:8080/"
        },
        "id": "e-JaLqC5BiYU",
        "outputId": "6422a4f6-03bd-477a-bc65-9129ab0c5a5b"
      },
      "source": [
        "ac"
      ],
      "execution_count": null,
      "outputs": [
        {
          "output_type": "execute_result",
          "data": {
            "text/plain": [
              "0.5"
            ]
          },
          "metadata": {},
          "execution_count": 24
        }
      ]
    },
    {
      "cell_type": "markdown",
      "metadata": {
        "id": "1sBQI1eaCW1P"
      },
      "source": [
        "De nuevo, se obtuvo un porcentaje del 50% con este modelo ♥"
      ]
    },
    {
      "cell_type": "code",
      "metadata": {
        "id": "Q0B_MkYEajVI",
        "colab": {
          "base_uri": "https://localhost:8080/"
        },
        "outputId": "cabc23b1-dd14-4781-d074-d22a913d2718"
      },
      "source": [
        "lr_fit.predict_proba(X_test)"
      ],
      "execution_count": null,
      "outputs": [
        {
          "output_type": "execute_result",
          "data": {
            "text/plain": [
              "array([[0.48638069, 0.51361931],\n",
              "       [0.47506471, 0.52493529],\n",
              "       [0.49531335, 0.50468665],\n",
              "       [0.46175356, 0.53824644],\n",
              "       [0.48414448, 0.51585552],\n",
              "       [0.46523948, 0.53476052],\n",
              "       [0.48252963, 0.51747037],\n",
              "       [0.47506471, 0.52493529],\n",
              "       [0.45967569, 0.54032431],\n",
              "       [0.46668527, 0.53331473],\n",
              "       [0.48862415, 0.51137585],\n",
              "       [0.62306783, 0.37693217],\n",
              "       [0.48381473, 0.51618527],\n",
              "       [0.47440136, 0.52559864],\n",
              "       [0.48140866, 0.51859134],\n",
              "       [0.46229821, 0.53770179],\n",
              "       [0.48318051, 0.51681949],\n",
              "       [0.48308014, 0.51691986],\n",
              "       [0.48195574, 0.51804426],\n",
              "       [0.48490929, 0.51509071],\n",
              "       [0.465568  , 0.534432  ],\n",
              "       [0.46519615, 0.53480385],\n",
              "       [0.48140866, 0.51859134],\n",
              "       [0.4721362 , 0.5278638 ],\n",
              "       [0.48686118, 0.51313882],\n",
              "       [0.46012014, 0.53987986],\n",
              "       [0.4898264 , 0.5101736 ],\n",
              "       [0.48964561, 0.51035439],\n",
              "       [0.48523909, 0.51476091],\n",
              "       [0.48359724, 0.51640276],\n",
              "       [0.46829509, 0.53170491],\n",
              "       [0.47648709, 0.52351291],\n",
              "       [0.5205166 , 0.4794834 ],\n",
              "       [0.45520523, 0.54479477],\n",
              "       [0.48086162, 0.51913838],\n",
              "       [0.46631998, 0.53368002],\n",
              "       [0.46796634, 0.53203366],\n",
              "       [0.48325747, 0.51674253],\n",
              "       [0.46829509, 0.53170491],\n",
              "       [0.48588685, 0.51411315],\n",
              "       [0.47052487, 0.52947513],\n",
              "       [0.49687631, 0.50312369],\n",
              "       [0.4832675 , 0.5167325 ],\n",
              "       [0.48195574, 0.51804426],\n",
              "       [0.48086162, 0.51913838],\n",
              "       [0.47648709, 0.52351291],\n",
              "       [0.46577469, 0.53422531],\n",
              "       [0.49016641, 0.50983359],\n",
              "       [0.47981451, 0.52018549],\n",
              "       [0.48198585, 0.51801415],\n",
              "       [0.48816032, 0.51183968],\n",
              "       [0.46502282, 0.53497718],\n",
              "       [0.48412441, 0.51587559],\n",
              "       [0.48145549, 0.51854451],\n",
              "       [0.48419133, 0.51580867],\n",
              "       [0.48217318, 0.51782682],\n",
              "       [0.47758041, 0.52241959],\n",
              "       [0.48029457, 0.51970543],\n",
              "       [0.50651912, 0.49348088],\n",
              "       [0.48742871, 0.51257129],\n",
              "       [0.46447773, 0.53552227],\n",
              "       [0.47549424, 0.52450576],\n",
              "       [0.48086162, 0.51913838],\n",
              "       [0.4980523 , 0.5019477 ],\n",
              "       [0.5205166 , 0.4794834 ],\n",
              "       [0.47287939, 0.52712061],\n",
              "       [0.48031463, 0.51968537],\n",
              "       [0.49180933, 0.50819067],\n",
              "       [0.48600399, 0.51399601],\n",
              "       [0.48086162, 0.51913838],\n",
              "       [0.48414448, 0.51585552],\n",
              "       [0.47378152, 0.52621848],\n",
              "       [0.47211617, 0.52788383],\n",
              "       [0.46578469, 0.53421531],\n",
              "       [0.48959873, 0.51040127],\n",
              "       [0.47922079, 0.52077921],\n",
              "       [0.47703373, 0.52296627],\n",
              "       [0.46733409, 0.53266591],\n",
              "       [0.47378152, 0.52621848],\n",
              "       [0.47922079, 0.52077921],\n",
              "       [0.4666586 , 0.5333414 ],\n",
              "       [0.4742811 , 0.5257189 ],\n",
              "       [0.47429112, 0.52570888],\n",
              "       [0.48359724, 0.51640276],\n",
              "       [0.46684201, 0.53315799],\n",
              "       [0.4759873 , 0.5240127 ],\n",
              "       [0.4879762 , 0.5120238 ],\n",
              "       [0.48414448, 0.51585552],\n",
              "       [0.48634053, 0.51365947],\n",
              "       [0.48471185, 0.51528815],\n",
              "       [0.47648709, 0.52351291],\n",
              "       [0.48907125, 0.51092875],\n",
              "       [0.47594052, 0.52405948],\n",
              "       [0.48538299, 0.51461701],\n",
              "       [0.475394  , 0.524606  ],\n",
              "       [0.47608422, 0.52391578],\n",
              "       [0.48162608, 0.51837392],\n",
              "       [0.48268687, 0.51731313],\n",
              "       [0.48427499, 0.51572501],\n",
              "       [0.48359724, 0.51640276],\n",
              "       [0.47482749, 0.52517251],\n",
              "       [0.48250286, 0.51749714],\n",
              "       [0.46512282, 0.53487718],\n",
              "       [0.48907125, 0.51092875],\n",
              "       [0.48631375, 0.51368625],\n",
              "       [0.47506471, 0.52493529],\n",
              "       [0.52379703, 0.47620297],\n",
              "       [0.48195574, 0.51804426],\n",
              "       [0.47648709, 0.52351291],\n",
              "       [0.47886453, 0.52113547],\n",
              "       [0.46611326, 0.53388674],\n",
              "       [0.51395071, 0.48604929],\n",
              "       [0.47502128, 0.52497872],\n",
              "       [0.48866767, 0.51133233],\n",
              "       [0.47052487, 0.52947513],\n",
              "       [0.48268687, 0.51731313],\n",
              "       [0.48798289, 0.51201711],\n",
              "       [0.4820561 , 0.5179439 ],\n",
              "       [0.51309029, 0.48690971],\n",
              "       [0.48698168, 0.51301832],\n",
              "       [0.48412441, 0.51587559],\n",
              "       [0.48819379, 0.51180621],\n",
              "       [0.47506471, 0.52493529],\n",
              "       [0.5281677 , 0.4718323 ],\n",
              "       [0.48966569, 0.51033431],\n",
              "       [0.46846857, 0.53153143],\n",
              "       [0.4879762 , 0.5120238 ],\n",
              "       [0.46725071, 0.53274929],\n",
              "       [0.46452438, 0.53547562],\n",
              "       [0.48305003, 0.51694997],\n",
              "       [0.4727625 , 0.5272375 ],\n",
              "       [0.47758041, 0.52241959],\n",
              "       [0.46523948, 0.53476052],\n",
              "       [0.48138859, 0.51861141],\n",
              "       [0.48473862, 0.51526138],\n",
              "       [0.50268475, 0.49731525],\n",
              "       [0.51035272, 0.48964728],\n",
              "       [0.46897754, 0.53102246],\n",
              "       [0.52707541, 0.47292459],\n",
              "       [0.48578645, 0.51421355],\n",
              "       [0.47482749, 0.52517251],\n",
              "       [0.52543649, 0.47456351],\n",
              "       [0.48816032, 0.51183968],\n",
              "       [0.51176089, 0.48823911],\n",
              "       [0.46888745, 0.53111255],\n",
              "       [0.46687536, 0.53312464],\n",
              "       [0.46010017, 0.53989983],\n",
              "       [0.4876463 , 0.5123537 ],\n",
              "       [0.47812716, 0.52187284],\n",
              "       [0.47233322, 0.52766678],\n",
              "       [0.4912918 , 0.5087082 ],\n",
              "       [0.53035145, 0.46964855],\n",
              "       [0.47014921, 0.52985079],\n",
              "       [0.47717746, 0.52282254],\n",
              "       [0.48631375, 0.51368625],\n",
              "       [0.48414448, 0.51585552],\n",
              "       [0.47549424, 0.52450576],\n",
              "       [0.49147932, 0.50852068],\n",
              "       [0.47974763, 0.52025237],\n",
              "       [0.49697206, 0.50302794],\n",
              "       [0.47867395, 0.52132605],\n",
              "       [0.48041496, 0.51958504],\n",
              "       [0.46447773, 0.53552227],\n",
              "       [0.47648709, 0.52351291],\n",
              "       [0.46888745, 0.53111255],\n",
              "       [0.46885409, 0.53114591],\n",
              "       [0.46120899, 0.53879101],\n",
              "       [0.47487761, 0.52512239],\n",
              "       [0.49014632, 0.50985368],\n",
              "       [0.46905762, 0.53094238],\n",
              "       [0.47211617, 0.52788383],\n",
              "       [0.48432853, 0.51567147],\n",
              "       [0.46993227, 0.53006773],\n",
              "       [0.47047814, 0.52952186],\n",
              "       [0.51778154, 0.48221846],\n",
              "       [0.48580653, 0.51419347],\n",
              "       [0.48414448, 0.51585552],\n",
              "       [0.5281677 , 0.4718323 ],\n",
              "       [0.48086162, 0.51913838],\n",
              "       [0.46884074, 0.53115926],\n",
              "       [0.4666586 , 0.5333414 ],\n",
              "       [0.46500282, 0.53499718],\n",
              "       [0.46991224, 0.53008776],\n",
              "       [0.48412441, 0.51587559],\n",
              "       [0.45478146, 0.54521854],\n",
              "       [0.4603032 , 0.5396968 ],\n",
              "       [0.46991224, 0.53008776],\n",
              "       [0.48031463, 0.51968537],\n",
              "       [0.52106347, 0.47893653],\n",
              "       [0.48412441, 0.51587559],\n",
              "       [0.46523948, 0.53476052],\n",
              "       [0.4727625 , 0.5272375 ],\n",
              "       [0.48742871, 0.51257129],\n",
              "       [0.47922079, 0.52077921],\n",
              "       [0.46829509, 0.53170491],\n",
              "       [0.48850363, 0.51149637],\n",
              "       [0.47124107, 0.52875893],\n",
              "       [0.48852371, 0.51147629],\n",
              "       [0.48214642, 0.51785358],\n",
              "       [0.48578645, 0.51421355],\n",
              "       [0.45598467, 0.54401533],\n",
              "       [0.46466103, 0.53533897],\n",
              "       [0.4777977 , 0.5222023 ],\n",
              "       [0.48578645, 0.51421355],\n",
              "       [0.47397193, 0.52602807],\n",
              "       [0.46066452, 0.53933548],\n",
              "       [0.47266231, 0.52733769],\n",
              "       [0.47976769, 0.52023231],\n",
              "       [0.47615774, 0.52384226],\n",
              "       [0.46294289, 0.53705711],\n",
              "       [0.48359724, 0.51640276],\n",
              "       [0.48034473, 0.51965527],\n",
              "       [0.48742871, 0.51257129],\n",
              "       [0.47594052, 0.52405948],\n",
              "       [0.47815724, 0.52184276],\n",
              "       [0.47925089, 0.52074911],\n",
              "       [0.47922079, 0.52077921],\n",
              "       [0.48250286, 0.51749714],\n",
              "       [0.47155006, 0.52844994],\n",
              "       [0.48545662, 0.51454338],\n",
              "       [0.49720664, 0.50279336],\n",
              "       [0.48272032, 0.51727968],\n",
              "       [0.48742871, 0.51257129],\n",
              "       [0.48195574, 0.51804426],\n",
              "       [0.48742871, 0.51257129],\n",
              "       [0.48490929, 0.51509071],\n",
              "       [0.47264228, 0.52735772],\n",
              "       [0.49093168, 0.50906832],\n",
              "       [0.475394  , 0.524606  ],\n",
              "       [0.47756036, 0.52243964],\n",
              "       [0.4565017 , 0.5434983 ],\n",
              "       [0.46632998, 0.53367002],\n",
              "       [0.46903093, 0.53096907],\n",
              "       [0.46609325, 0.53390675],\n",
              "       [0.48140866, 0.51859134],\n",
              "       [0.48742871, 0.51257129],\n",
              "       [0.50761453, 0.49238547],\n",
              "       [0.48855384, 0.51144616],\n",
              "       [0.47867395, 0.52132605],\n",
              "       [0.47648709, 0.52351291],\n",
              "       [0.47451829, 0.52548171],\n",
              "       [0.47430114, 0.52569886],\n",
              "       [0.46229821, 0.53770179],\n",
              "       [0.47701367, 0.52298633],\n",
              "       [0.52871374, 0.47128626],\n",
              "       [0.47615774, 0.52384226],\n",
              "       [0.48690134, 0.51309866],\n",
              "       [0.4737548 , 0.5262452 ],\n",
              "       [0.4879762 , 0.5120238 ],\n",
              "       [0.47865389, 0.52134611],\n",
              "       [0.4633878 , 0.5366122 ],\n",
              "       [0.48633384, 0.51366616],\n",
              "       [0.47484754, 0.52515246],\n",
              "       [0.47052487, 0.52947513],\n",
              "       [0.4815826 , 0.5184174 ],\n",
              "       [0.45848758, 0.54151242],\n",
              "       [0.47102408, 0.52897592],\n",
              "       [0.46848525, 0.53151475],\n",
              "       [0.49031039, 0.50968961],\n",
              "       [0.50925751, 0.49074249],\n",
              "       [0.48483566, 0.51516434],\n",
              "       [0.45957586, 0.54042414],\n",
              "       [0.47047814, 0.52952186],\n",
              "       [0.47703373, 0.52296627],\n",
              "       [0.48707205, 0.51292795],\n",
              "       [0.48378127, 0.51621873],\n",
              "       [0.48852371, 0.51147629],\n",
              "       [0.47877425, 0.52122575],\n",
              "       [0.48633384, 0.51366616],\n",
              "       [0.49840919, 0.50159081],\n",
              "       [0.46449772, 0.53550228],\n",
              "       [0.45272518, 0.54727482],\n",
              "       [0.52270377, 0.47729623],\n",
              "       [0.48414448, 0.51585552],\n",
              "       [0.49035057, 0.50964943],\n",
              "       [0.47266231, 0.52733769],\n",
              "       [0.48469177, 0.51530823],\n",
              "       [0.47342563, 0.52657437],\n",
              "       [0.48159932, 0.51840068],\n",
              "       [0.47725099, 0.52274901],\n",
              "       [0.49527986, 0.50472014],\n",
              "       [0.48359724, 0.51640276],\n",
              "       [0.47725099, 0.52274901],\n",
              "       [0.48469177, 0.51530823],\n",
              "       [0.47812716, 0.52187284],\n",
              "       [0.48084156, 0.51915844],\n",
              "       [0.4825497 , 0.5174503 ],\n",
              "       [0.48252963, 0.51747037],\n",
              "       [0.46229821, 0.53770179],\n",
              "       [0.47922079, 0.52077921],\n",
              "       [0.4865514 , 0.5134486 ],\n",
              "       [0.46175356, 0.53824644],\n",
              "       [0.48469177, 0.51530823],\n",
              "       [0.46792297, 0.53207703],\n",
              "       [0.46066452, 0.53933548],\n",
              "       [0.48603411, 0.51396589],\n",
              "       [0.48928887, 0.51071113],\n",
              "       [0.48357716, 0.51642284],\n",
              "       [0.46611326, 0.53388674],\n",
              "       [0.4666586 , 0.5333414 ]])"
            ]
          },
          "metadata": {},
          "execution_count": 25
        }
      ]
    },
    {
      "cell_type": "markdown",
      "metadata": {
        "id": "eSmGjC7htY6_"
      },
      "source": [
        "###Repeat the process\n",
        "Se aplica el mismo proceso 5k veces para tener stacks"
      ]
    },
    {
      "cell_type": "code",
      "metadata": {
        "id": "mOs8Vf1dtY7I"
      },
      "source": [
        "N = 5000;\n",
        "scores = [];\n",
        "alphas = [];\n",
        "for i in range(0, N):\n",
        "  X_tra, X_test, y_tra, y_test = train_test_split(X_logi, y_logi, test_size=0.3, random_state=i+4);\n",
        "  lr = LogisticRegression(solver='liblinear',fit_intercept=False);\n",
        "  lr_fit = lr.fit(X_tra, y_tra);\n",
        "  lr_score = lr_fit.score(X_test, y_test);\n",
        "  scores.append(lr_score);\n",
        "  alphas.append(lr_fit.coef_[0]);\n",
        "scores = np.array(scores, dtype=np.float32);\n",
        "alphas = np.array(alphas, dtype=np.float32);"
      ],
      "execution_count": null,
      "outputs": []
    },
    {
      "cell_type": "code",
      "metadata": {
        "colab": {
          "base_uri": "https://localhost:8080/",
          "height": 282
        },
        "id": "4DIhobMotY7N",
        "outputId": "9865af3a-5992-4b4e-ab82-9f737e17e1d8"
      },
      "source": [
        "sns.kdeplot(scores, shade=True)"
      ],
      "execution_count": null,
      "outputs": [
        {
          "output_type": "execute_result",
          "data": {
            "text/plain": [
              "<matplotlib.axes._subplots.AxesSubplot at 0x7ff4a66e9650>"
            ]
          },
          "metadata": {},
          "execution_count": 27
        },
        {
          "output_type": "display_data",
          "data": {
            "image/png": "[encoded data removed]",
            "text/plain": [
              "<Figure size 432x288 with 1 Axes>"
            ]
          },
          "metadata": {
            "needs_background": "light"
          }
        }
      ]
    },
    {
      "cell_type": "markdown",
      "metadata": {
        "id": "Y2l0o1D3Bmkk"
      },
      "source": [
        "Se puede ver como la probabilidad de la varible categorica dependiente `sexo` como funcion de la `edad` y el `departamento` tiene un score de un poco más 50% de las veces en este modelo"
      ]
    },
    {
      "cell_type": "markdown",
      "metadata": {
        "id": "GJoSGk5vrtu7"
      },
      "source": [
        "##Naive Bayes"
      ]
    },
    {
      "cell_type": "code",
      "metadata": {
        "id": "cvWE_0fprziN"
      },
      "source": [
        "from sklearn.preprocessing import StandardScaler\n",
        "from sklearn.naive_bayes import GaussianNB"
      ],
      "execution_count": null,
      "outputs": []
    },
    {
      "cell_type": "markdown",
      "metadata": {
        "id": "m2BsSyZwyQVt"
      },
      "source": [
        "Partimos nuestros datos y realizaremos un escalado de características al conjunto de entrenamiento y prueba."
      ]
    },
    {
      "cell_type": "code",
      "metadata": {
        "id": "nRSG4Tugr_Nb"
      },
      "source": [
        "y_NB = df_covid[['ciudad_municipio']].values.astype(np.float32)\n",
        "X_NB = df_covid[['departamento','edad']].values.astype(np.float32);\n",
        "X_train, X_test, y_train, y_test = train_test_split(X_NB, y_NB, test_size=0.3, random_state=10)\n",
        "sc = StandardScaler()\n",
        "X_train = sc.fit_transform(X_train)\n",
        "X_test = sc.transform(X_test)"
      ],
      "execution_count": null,
      "outputs": []
    },
    {
      "cell_type": "markdown",
      "metadata": {
        "id": "cLWp4ijuynA9"
      },
      "source": [
        "Entrenamiento del modelo **Naive Bayes** en el set de entrenamiento"
      ]
    },
    {
      "cell_type": "code",
      "metadata": {
        "colab": {
          "base_uri": "https://localhost:8080/"
        },
        "id": "XUC9EPppt-DD",
        "outputId": "bb0423d9-018d-47f8-de3d-371548f1ce1f"
      },
      "source": [
        "classifier = GaussianNB()\n",
        "classifier.fit(X_train, y_train)"
      ],
      "execution_count": null,
      "outputs": [
        {
          "output_type": "stream",
          "name": "stderr",
          "text": [
            "/usr/local/lib/python3.7/dist-packages/sklearn/utils/validation.py:985: DataConversionWarning: A column-vector y was passed when a 1d array was expected. Please change the shape of y to (n_samples, ), for example using ravel().\n",
            "  y = column_or_1d(y, warn=True)\n"
          ]
        },
        {
          "output_type": "execute_result",
          "data": {
            "text/plain": [
              "GaussianNB()"
            ]
          },
          "metadata": {},
          "execution_count": 30
        }
      ]
    },
    {
      "cell_type": "markdown",
      "metadata": {
        "id": "boV3MDy3ywlf"
      },
      "source": [
        "###Predicción"
      ]
    },
    {
      "cell_type": "code",
      "metadata": {
        "colab": {
          "base_uri": "https://localhost:8080/"
        },
        "id": "9Jg9QZITuHyi",
        "outputId": "a0284e99-7054-4bf9-a861-efed0cbc3388"
      },
      "source": [
        "y_pred  =  classifier.predict(X_test)\n",
        "y_pred"
      ],
      "execution_count": null,
      "outputs": [
        {
          "output_type": "execute_result",
          "data": {
            "text/plain": [
              "array([25754., 76001., 76001., 11001., 11001., 76001., 19001., 76001.,\n",
              "       41001., 19001., 41001., 47001., 76001., 41001., 11001., 11001.,\n",
              "       50001., 20001., 11001., 76001., 11001., 63001., 11001., 17001.,\n",
              "        5376., 11001., 73001., 19001., 11001., 11001., 11001., 11001.,\n",
              "       13001.,  5001., 11001., 73001., 76001., 73001., 11001., 41001.,\n",
              "       25214., 52001., 76001., 11001., 11001., 11001., 73001., 11001.,\n",
              "       25473., 20001., 66001., 11001.,  5001., 25817., 25769., 76001.,\n",
              "       11001.,  5001.,  8001., 11001., 11001., 41001., 11001., 76001.,\n",
              "       13001., 76001., 11001., 11001., 76001., 11001., 11001., 19001.,\n",
              "       11001., 76001.,  5001., 11001., 11001., 50001., 19001., 11001.,\n",
              "       11001.,  5001.,  8758., 11001., 66001., 25214., 11001., 11001.,\n",
              "       11001., 17873., 11001., 11001., 11001., 54001., 11001., 54001.,\n",
              "       76001., 66001., 50001., 11001.,  5001., 11001., 41001., 11001.,\n",
              "        5001., 76001., 13001., 11001., 11001., 68276., 11001., 13001.,\n",
              "       63001., 54001., 25214., 66001., 11001., 41001.,  8001., 41001.,\n",
              "        5001., 76001., 76001., 13001., 25754., 63001., 11001., 25214.,\n",
              "       25286., 11001., 41001., 11001., 76001.,  5001., 25754.,  8001.,\n",
              "        8001., 52001., 13001., 11001.,  5001., 13001., 66001., 13001.,\n",
              "       25214., 76001.,  5001., 76001., 11001., 76001., 20001., 13001.,\n",
              "       76001., 54001.,  5001., 11001., 41001., 76001.,  5001., 13001.,\n",
              "       11001., 41524., 11001., 11001., 25214., 15001., 11001., 20001.,\n",
              "        5001., 76001., 11001., 66001., 11001., 11001., 13001., 17877.,\n",
              "       11001., 13001., 11001., 11001., 11001.,  5001.,  5001.,  5001.,\n",
              "       41001., 66001.,  5001., 11001., 13001.,  5001., 76001., 41001.,\n",
              "       11001., 11001., 11001.,  5001., 76001., 11001., 68276., 11001.,\n",
              "       76520., 66001., 76126., 11001., 76001., 11001., 11001., 11001.,\n",
              "       76001., 41001., 11001., 20001., 11001., 11001., 20001., 20001.,\n",
              "       11001., 11001.,  5467., 76001.,  8001., 76001., 11001., 11001.,\n",
              "       11001., 76001.,  5001., 76001., 11001.,  5001., 68001., 76001.,\n",
              "       68001.,  5001., 11001., 11001.,  8001., 20001., 11001., 11001.,\n",
              "       76001., 11001., 11001.,  5001., 13001., 76001., 17877., 11001.,\n",
              "       11001.,  5001., 11001., 11001., 11001., 25214., 63001., 11001.,\n",
              "       11001., 68001., 54001.,  8001., 54001., 11001., 11001., 11001.,\n",
              "       68276., 66001., 11001., 41001., 11001., 19001., 17380., 76520.,\n",
              "       13001., 11001., 66001., 11001., 11001., 76001., 68276., 76001.,\n",
              "       66001., 11001., 76001., 11001., 11001.,  5001., 25754., 19001.,\n",
              "       11001., 11001., 76001., 11001., 11001., 63001., 11001., 88001.,\n",
              "       76001.,  5120., 11001., 11001.], dtype=float32)"
            ]
          },
          "metadata": {},
          "execution_count": 31
        }
      ]
    },
    {
      "cell_type": "code",
      "metadata": {
        "colab": {
          "base_uri": "https://localhost:8080/"
        },
        "id": "LPNpA6UGunjA",
        "outputId": "6c05638c-5a1a-47ea-c407-cfc537a493e4"
      },
      "source": [
        "y_test"
      ],
      "execution_count": null,
      "outputs": [
        {
          "output_type": "execute_result",
          "data": {
            "text/plain": [
              "array([[25126.],\n",
              "       [76001.],\n",
              "       [76520.],\n",
              "       [11001.],\n",
              "       [11001.],\n",
              "       [76001.],\n",
              "       [19001.],\n",
              "       [76001.],\n",
              "       [41001.],\n",
              "       [19001.],\n",
              "       [41001.],\n",
              "       [47001.],\n",
              "       [76001.],\n",
              "       [41001.],\n",
              "       [11001.],\n",
              "       [11001.],\n",
              "       [50001.],\n",
              "       [20001.],\n",
              "       [11001.],\n",
              "       [76001.],\n",
              "       [11001.],\n",
              "       [63001.],\n",
              "       [11001.],\n",
              "       [17174.],\n",
              "       [ 5001.],\n",
              "       [11001.],\n",
              "       [73001.],\n",
              "       [19698.],\n",
              "       [11001.],\n",
              "       [11001.],\n",
              "       [11001.],\n",
              "       [11001.],\n",
              "       [13001.],\n",
              "       [ 5001.],\n",
              "       [11001.],\n",
              "       [73001.],\n",
              "       [76001.],\n",
              "       [73001.],\n",
              "       [11001.],\n",
              "       [41001.],\n",
              "       [25290.],\n",
              "       [52835.],\n",
              "       [76892.],\n",
              "       [11001.],\n",
              "       [11001.],\n",
              "       [11001.],\n",
              "       [73001.],\n",
              "       [11001.],\n",
              "       [25473.],\n",
              "       [20001.],\n",
              "       [66170.],\n",
              "       [11001.],\n",
              "       [ 5615.],\n",
              "       [25754.],\n",
              "       [25513.],\n",
              "       [76001.],\n",
              "       [11001.],\n",
              "       [ 5001.],\n",
              "       [ 8001.],\n",
              "       [11001.],\n",
              "       [11001.],\n",
              "       [41001.],\n",
              "       [11001.],\n",
              "       [76892.],\n",
              "       [13001.],\n",
              "       [76001.],\n",
              "       [11001.],\n",
              "       [11001.],\n",
              "       [76001.],\n",
              "       [11001.],\n",
              "       [11001.],\n",
              "       [19001.],\n",
              "       [11001.],\n",
              "       [76520.],\n",
              "       [ 5001.],\n",
              "       [11001.],\n",
              "       [11001.],\n",
              "       [50001.],\n",
              "       [19001.],\n",
              "       [11001.],\n",
              "       [11001.],\n",
              "       [ 5001.],\n",
              "       [ 8573.],\n",
              "       [11001.],\n",
              "       [66001.],\n",
              "       [25875.],\n",
              "       [11001.],\n",
              "       [11001.],\n",
              "       [13052.],\n",
              "       [17380.],\n",
              "       [11001.],\n",
              "       [11001.],\n",
              "       [11001.],\n",
              "       [54874.],\n",
              "       [11001.],\n",
              "       [54001.],\n",
              "       [76111.],\n",
              "       [66170.],\n",
              "       [50001.],\n",
              "       [11001.],\n",
              "       [ 5266.],\n",
              "       [11001.],\n",
              "       [41001.],\n",
              "       [11001.],\n",
              "       [ 5001.],\n",
              "       [76001.],\n",
              "       [13001.],\n",
              "       [11001.],\n",
              "       [11001.],\n",
              "       [68001.],\n",
              "       [11001.],\n",
              "       [13001.],\n",
              "       [63001.],\n",
              "       [54405.],\n",
              "       [25754.],\n",
              "       [66001.],\n",
              "       [13052.],\n",
              "       [41001.],\n",
              "       [ 8001.],\n",
              "       [41001.],\n",
              "       [ 5088.],\n",
              "       [76520.],\n",
              "       [76001.],\n",
              "       [13001.],\n",
              "       [25214.],\n",
              "       [63001.],\n",
              "       [11001.],\n",
              "       [25758.],\n",
              "       [25873.],\n",
              "       [11001.],\n",
              "       [41001.],\n",
              "       [11001.],\n",
              "       [76001.],\n",
              "       [ 5001.],\n",
              "       [25175.],\n",
              "       [ 8001.],\n",
              "       [ 8001.],\n",
              "       [52227.],\n",
              "       [13001.],\n",
              "       [11001.],\n",
              "       [ 5001.],\n",
              "       [13001.],\n",
              "       [66001.],\n",
              "       [13001.],\n",
              "       [25214.],\n",
              "       [76001.],\n",
              "       [ 5088.],\n",
              "       [76520.],\n",
              "       [11001.],\n",
              "       [76828.],\n",
              "       [20001.],\n",
              "       [13001.],\n",
              "       [76520.],\n",
              "       [54001.],\n",
              "       [ 5001.],\n",
              "       [11001.],\n",
              "       [41524.],\n",
              "       [76001.],\n",
              "       [ 5001.],\n",
              "       [13001.],\n",
              "       [11001.],\n",
              "       [41001.],\n",
              "       [11001.],\n",
              "       [11001.],\n",
              "       [25175.],\n",
              "       [15686.],\n",
              "       [11001.],\n",
              "       [20001.],\n",
              "       [ 5266.],\n",
              "       [76001.],\n",
              "       [11001.],\n",
              "       [66001.],\n",
              "       [11001.],\n",
              "       [11001.],\n",
              "       [13001.],\n",
              "       [17001.],\n",
              "       [11001.],\n",
              "       [13001.],\n",
              "       [11001.],\n",
              "       [11001.],\n",
              "       [11001.],\n",
              "       [ 5266.],\n",
              "       [ 5686.],\n",
              "       [ 5631.],\n",
              "       [41001.],\n",
              "       [66001.],\n",
              "       [ 5001.],\n",
              "       [11001.],\n",
              "       [13001.],\n",
              "       [ 5045.],\n",
              "       [76001.],\n",
              "       [41001.],\n",
              "       [11001.],\n",
              "       [11001.],\n",
              "       [11001.],\n",
              "       [ 5001.],\n",
              "       [76001.],\n",
              "       [11001.],\n",
              "       [68001.],\n",
              "       [11001.],\n",
              "       [76001.],\n",
              "       [66001.],\n",
              "       [76892.],\n",
              "       [11001.],\n",
              "       [76250.],\n",
              "       [11001.],\n",
              "       [11001.],\n",
              "       [11001.],\n",
              "       [76001.],\n",
              "       [41001.],\n",
              "       [11001.],\n",
              "       [20001.],\n",
              "       [11001.],\n",
              "       [11001.],\n",
              "       [20001.],\n",
              "       [20001.],\n",
              "       [11001.],\n",
              "       [11001.],\n",
              "       [ 5321.],\n",
              "       [76001.],\n",
              "       [ 8001.],\n",
              "       [76892.],\n",
              "       [11001.],\n",
              "       [11001.],\n",
              "       [11001.],\n",
              "       [76001.],\n",
              "       [ 5615.],\n",
              "       [76520.],\n",
              "       [11001.],\n",
              "       [ 5001.],\n",
              "       [68001.],\n",
              "       [76001.],\n",
              "       [68276.],\n",
              "       [ 5001.],\n",
              "       [11001.],\n",
              "       [11001.],\n",
              "       [ 8001.],\n",
              "       [20001.],\n",
              "       [11001.],\n",
              "       [11001.],\n",
              "       [76001.],\n",
              "       [11001.],\n",
              "       [11001.],\n",
              "       [ 5001.],\n",
              "       [13001.],\n",
              "       [76001.],\n",
              "       [17380.],\n",
              "       [11001.],\n",
              "       [11001.],\n",
              "       [ 5001.],\n",
              "       [11001.],\n",
              "       [11001.],\n",
              "       [11001.],\n",
              "       [25126.],\n",
              "       [63001.],\n",
              "       [11001.],\n",
              "       [11001.],\n",
              "       [68001.],\n",
              "       [54405.],\n",
              "       [ 8001.],\n",
              "       [54001.],\n",
              "       [11001.],\n",
              "       [11001.],\n",
              "       [11001.],\n",
              "       [68001.],\n",
              "       [66001.],\n",
              "       [11001.],\n",
              "       [41001.],\n",
              "       [11001.],\n",
              "       [19001.],\n",
              "       [17001.],\n",
              "       [76001.],\n",
              "       [13001.],\n",
              "       [11001.],\n",
              "       [66170.],\n",
              "       [11001.],\n",
              "       [11001.],\n",
              "       [76001.],\n",
              "       [68001.],\n",
              "       [76001.],\n",
              "       [66001.],\n",
              "       [11001.],\n",
              "       [76520.],\n",
              "       [11001.],\n",
              "       [11001.],\n",
              "       [ 5001.],\n",
              "       [25430.],\n",
              "       [19001.],\n",
              "       [11001.],\n",
              "       [11001.],\n",
              "       [76147.],\n",
              "       [11001.],\n",
              "       [11001.],\n",
              "       [63470.],\n",
              "       [11001.],\n",
              "       [85001.],\n",
              "       [76001.],\n",
              "       [ 5001.],\n",
              "       [11001.],\n",
              "       [11001.]], dtype=float32)"
            ]
          },
          "metadata": {},
          "execution_count": 32
        }
      ]
    },
    {
      "cell_type": "markdown",
      "metadata": {
        "id": "3dynQReBzDcw"
      },
      "source": [
        "Usamos la **matriz de confusión** y la **puntuación de precisión** comparando los valores de prueba predichos y reales"
      ]
    },
    {
      "cell_type": "code",
      "metadata": {
        "colab": {
          "base_uri": "https://localhost:8080/"
        },
        "id": "7CyeHmU7wfTX",
        "outputId": "183320d2-3866-45a2-e14b-8baa033e9fcf"
      },
      "source": [
        "cm = confusion_matrix(y_test, y_pred)\n",
        "ac = accuracy_score(y_test,y_pred)\n",
        "cm"
      ],
      "execution_count": null,
      "outputs": [
        {
          "output_type": "execute_result",
          "data": {
            "text/plain": [
              "array([[16,  0,  0, ...,  0,  0,  0],\n",
              "       [ 1,  0,  0, ...,  0,  0,  0],\n",
              "       [ 2,  0,  0, ...,  0,  0,  0],\n",
              "       ...,\n",
              "       [ 0,  0,  0, ...,  0,  0,  0],\n",
              "       [ 0,  0,  0, ...,  0,  0,  1],\n",
              "       [ 0,  0,  0, ...,  0,  0,  0]])"
            ]
          },
          "metadata": {},
          "execution_count": 33
        }
      ]
    },
    {
      "cell_type": "code",
      "metadata": {
        "colab": {
          "base_uri": "https://localhost:8080/"
        },
        "id": "sZmrekwlx1Ev",
        "outputId": "30fdce41-5212-4677-a791-72182e7040d8"
      },
      "source": [
        "ac"
      ],
      "execution_count": null,
      "outputs": [
        {
          "output_type": "execute_result",
          "data": {
            "text/plain": [
              "0.7666666666666667"
            ]
          },
          "metadata": {},
          "execution_count": 34
        }
      ]
    },
    {
      "cell_type": "markdown",
      "metadata": {
        "id": "221n4RIgAy1g"
      },
      "source": [
        "se obtuvo un buen porcentaje del 76% con este modelo ♥"
      ]
    }
  ]
}